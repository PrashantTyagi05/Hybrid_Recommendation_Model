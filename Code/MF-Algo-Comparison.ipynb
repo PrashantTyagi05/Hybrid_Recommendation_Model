{
 "cells": [
  {
   "cell_type": "code",
   "execution_count": 1,
   "metadata": {
    "colab": {},
    "colab_type": "code",
    "id": "J9FfIKsk0bDJ"
   },
   "outputs": [],
   "source": [
    "from surprise import SVD, BaselineOnly, SVDpp, NMF, SlopeOne, CoClustering, Reader\n",
    "from surprise import Dataset\n",
    "from surprise.model_selection import cross_validate\n",
    "from surprise.prediction_algorithms import KNNBaseline, KNNBasic, KNNWithMeans, KNNWithZScore\n",
    "from surprise import accuracy\n",
    "from surprise.model_selection import train_test_split"
   ]
  },
  {
   "cell_type": "code",
   "execution_count": 2,
   "metadata": {
    "colab": {},
    "colab_type": "code",
    "id": "mCZrwlMiOZPg"
   },
   "outputs": [],
   "source": [
    "import pandas as pd\n",
    "import numpy as np"
   ]
  },
  {
   "cell_type": "code",
   "execution_count": 3,
   "metadata": {
    "colab": {
     "base_uri": "https://localhost:8080/",
     "height": 67
    },
    "colab_type": "code",
    "id": "olgICu7ZYyM7",
    "outputId": "1c8bb714-5fe1-497a-9344-130c4fbb91ef"
   },
   "outputs": [],
   "source": [
    "# Load the movielens-1M dataset\n",
    "data = pd.read_csv('C:/Users/prtyagi/Desktop/New folder/archive1/ratings_small.csv')"
   ]
  },
  {
   "cell_type": "code",
   "execution_count": 4,
   "metadata": {
    "colab": {},
    "colab_type": "code",
    "id": "DnLayS6VaXZL"
   },
   "outputs": [],
   "source": [
    "# sample random trainset and testset\n",
    "# test set is made of 20% of the ratings.\n",
    "from sklearn.model_selection import train_test_split\n",
    "train_data, test_data = train_test_split(data, test_size=0.2)"
   ]
  },
  {
   "cell_type": "code",
   "execution_count": 5,
   "metadata": {
    "colab": {},
    "colab_type": "code",
    "id": "AC2Mt8xUyccA"
   },
   "outputs": [],
   "source": [
    "def convert_traintest_dataframe_forsurprise(training_dataframe, testing_dataframe):\n",
    "    reader = Reader(rating_scale=(0, 5))\n",
    "    trainset = Dataset.load_from_df(training_dataframe[['userId', 'movieId', 'rating']], reader)\n",
    "    testset = Dataset.load_from_df(testing_dataframe[['userId', 'movieId', 'rating']], reader)\n",
    "    trainset = trainset.construct_trainset(trainset.raw_ratings)\n",
    "    testset = testset.construct_testset(testset.raw_ratings)\n",
    "    return trainset, testset"
   ]
  },
  {
   "cell_type": "code",
   "execution_count": 6,
   "metadata": {
    "colab": {},
    "colab_type": "code",
    "id": "dHBcLq3eyi0T"
   },
   "outputs": [],
   "source": [
    "trainset, testset = convert_traintest_dataframe_forsurprise(train_data, test_data)"
   ]
  },
  {
   "cell_type": "code",
   "execution_count": 7,
   "metadata": {
    "colab": {},
    "colab_type": "code",
    "id": "AlitWSrNb2wZ"
   },
   "outputs": [],
   "source": [
    "def recommendation(algo, trainset, testset):\n",
    "  # Train the algorithm on the trainset, and predict ratings for the testset\n",
    "  algo.fit(trainset)\n",
    "\n",
    "  # Predictions on testing set\n",
    "  test_predictions = algo.test(testset)\n",
    "  test_rmse = accuracy.rmse(test_predictions)\n",
    "  test_mae = accuracy.mae(test_predictions)\n",
    "  \n",
    "  return test_rmse, test_mae, test_predictions"
   ]
  },
  {
   "cell_type": "markdown",
   "metadata": {
    "colab_type": "text",
    "id": "Iv9GSCQx24RI"
   },
   "source": [
    "#### Experimenting"
   ]
  },
  {
   "cell_type": "code",
   "execution_count": 8,
   "metadata": {
    "colab": {
     "base_uri": "https://localhost:8080/",
     "height": 84
    },
    "colab_type": "code",
    "id": "E777XIBI26SQ",
    "outputId": "b5629514-2562-4eda-b44f-67cfbfa18a8a"
   },
   "outputs": [
    {
     "name": "stdout",
     "output_type": "stream",
     "text": [
      "Using ALS\n",
      "Estimating biases using als...\n",
      "RMSE: 0.8820\n",
      "MAE:  0.6803\n"
     ]
    }
   ],
   "source": [
    "print('Using ALS')\n",
    "bsl_options = {'method': 'als',\n",
    "               'n_epochs': 5,\n",
    "               'reg_u': 12,\n",
    "               'reg_i': 5\n",
    "               }\n",
    "algo = BaselineOnly(bsl_options=bsl_options)\n",
    "test_rmse, test_mae, test_pred = recommendation(algo, trainset, testset)"
   ]
  },
  {
   "cell_type": "code",
   "execution_count": 9,
   "metadata": {
    "colab": {
     "base_uri": "https://localhost:8080/",
     "height": 84
    },
    "colab_type": "code",
    "id": "luHqcF-H30jl",
    "outputId": "a96a611a-eab4-49ee-e34d-c99c847b584f"
   },
   "outputs": [
    {
     "name": "stdout",
     "output_type": "stream",
     "text": [
      "Using SGD\n",
      "Estimating biases using sgd...\n",
      "RMSE: 1.0067\n",
      "MAE:  0.8082\n"
     ]
    }
   ],
   "source": [
    "print('Using SGD')\n",
    "bsl_options = {'method': 'sgd',\n",
    "               'learning_rate': .00005,\n",
    "               }\n",
    "algo = BaselineOnly(bsl_options=bsl_options)\n",
    "test_rmse, test_mae, test_pred = recommendation(algo, trainset, testset)"
   ]
  },
  {
   "cell_type": "markdown",
   "metadata": {
    "colab_type": "text",
    "id": "gBCl6LOoBPgQ"
   },
   "source": [
    "##### Calculating predictions for the top methods:"
   ]
  },
  {
   "cell_type": "code",
   "execution_count": 10,
   "metadata": {
    "colab": {
     "base_uri": "https://localhost:8080/",
     "height": 101
    },
    "colab_type": "code",
    "id": "KuTTB-6Th8ZN",
    "outputId": "a202ac5a-0dc8-4a9b-9349-847ce601c9fc"
   },
   "outputs": [
    {
     "name": "stdout",
     "output_type": "stream",
     "text": [
      "Estimating biases using als...\n",
      "Computing the msd similarity matrix...\n",
      "Done computing similarity matrix.\n",
      "RMSE: 0.8920\n",
      "MAE:  0.6820\n"
     ]
    }
   ],
   "source": [
    "# KNNBaseline\n",
    "\n",
    "algo = KNNBaseline()\n",
    "test_knn_rmse, test_knn_mae, test_knn_pred = recommendation(algo, trainset, testset)"
   ]
  },
  {
   "cell_type": "code",
   "execution_count": 11,
   "metadata": {
    "colab": {
     "base_uri": "https://localhost:8080/",
     "height": 50
    },
    "colab_type": "code",
    "id": "ndRC8sVBBoje",
    "outputId": "8f1c4945-631c-4a2c-e7ef-92a13db48983"
   },
   "outputs": [
    {
     "name": "stdout",
     "output_type": "stream",
     "text": [
      "RMSE: 0.9259\n",
      "MAE:  0.7080\n"
     ]
    }
   ],
   "source": [
    "# SlopeOne\n",
    "\n",
    "algo = SlopeOne()\n",
    "test_slopeone_rmse, test_slopeone_mae, test_slopeone_pred = recommendation(algo, trainset, testset)"
   ]
  },
  {
   "cell_type": "code",
   "execution_count": 12,
   "metadata": {
    "colab": {
     "base_uri": "https://localhost:8080/",
     "height": 50
    },
    "colab_type": "code",
    "id": "INAgGkTFBxlT",
    "outputId": "0e9a390a-e87d-4f55-a97e-6284f7348074"
   },
   "outputs": [
    {
     "name": "stdout",
     "output_type": "stream",
     "text": [
      "RMSE: 0.8892\n",
      "MAE:  0.6853\n"
     ]
    }
   ],
   "source": [
    "# SVD\n",
    "\n",
    "algo = SVD()\n",
    "test_svd_rmse, test_svd_mae, test_svd_pred  = recommendation(algo, trainset, testset)"
   ]
  },
  {
   "cell_type": "code",
   "execution_count": 13,
   "metadata": {
    "colab": {
     "base_uri": "https://localhost:8080/",
     "height": 50
    },
    "colab_type": "code",
    "id": "uJCkdey1B02t",
    "outputId": "662ecf2e-f6b3-4f46-d55e-40c825c9009b"
   },
   "outputs": [
    {
     "name": "stdout",
     "output_type": "stream",
     "text": [
      "RMSE: 0.8794\n",
      "MAE:  0.6737\n"
     ]
    }
   ],
   "source": [
    "# SVDpp\n",
    "\n",
    "algo = SVDpp()\n",
    "test_svdpp_rmse, test_svdpp_mae, test_svdpp_pred = recommendation(algo, trainset, testset)"
   ]
  },
  {
   "cell_type": "code",
   "execution_count": 14,
   "metadata": {
    "colab": {
     "base_uri": "https://localhost:8080/",
     "height": 67
    },
    "colab_type": "code",
    "id": "nprC9tRcymxk",
    "outputId": "8b64d3ec-8a8b-4963-8a0f-54ef0ae090c4"
   },
   "outputs": [
    {
     "name": "stdout",
     "output_type": "stream",
     "text": [
      "Estimating biases using als...\n",
      "RMSE: 0.8880\n",
      "MAE:  0.6862\n"
     ]
    }
   ],
   "source": [
    "# BaselineOnly()\n",
    "\n",
    "algo = BaselineOnly()\n",
    "test_base_rmse, test_base_mae, test_base_pred  = recommendation(algo, trainset, testset)"
   ]
  },
  {
   "cell_type": "code",
   "execution_count": 15,
   "metadata": {
    "colab": {},
    "colab_type": "code",
    "id": "5OqtsT-5MPAh"
   },
   "outputs": [],
   "source": [
    "test_pred_df = pd.DataFrame(columns= ['uid', 'iid', 'og_rating', 'svd_rating', 'knn_rating', 'svdpp_rating', 'slopeone_rating', 'baseline_rating'])"
   ]
  },
  {
   "cell_type": "code",
   "execution_count": 16,
   "metadata": {
    "colab": {
     "base_uri": "https://localhost:8080/",
     "height": 34
    },
    "colab_type": "code",
    "id": "ExyS3zHlzxsP",
    "outputId": "3e7f502e-2286-4806-cf93-217aa64a4b08"
   },
   "outputs": [
    {
     "name": "stdout",
     "output_type": "stream",
     "text": [
      "20001\n"
     ]
    }
   ],
   "source": [
    "num_test = len(test_base_pred)\n",
    "print(num_test)"
   ]
  },
  {
   "cell_type": "markdown",
   "metadata": {
    "colab_type": "text",
    "id": "qHYtUbMyrOA9"
   },
   "source": [
    "##### Storing testing set predictions:"
   ]
  },
  {
   "cell_type": "code",
   "execution_count": 17,
   "metadata": {
    "colab": {},
    "colab_type": "code",
    "id": "YSPLXRAgzfka"
   },
   "outputs": [],
   "source": [
    "for i in range(num_test): \n",
    "  svd = test_svd_pred[i]\n",
    "  slopeone = test_slopeone_pred[i]\n",
    "  knn = test_knn_pred[i]\n",
    "  svdpp = test_svdpp_pred[i]\n",
    "  baseline = test_base_pred[i]\n",
    "  df = pd.DataFrame([[svd.uid, svd.iid, svd.r_ui, svd.est, knn.est, svdpp.est, slopeone.est, baseline.est]], columns=['uid', 'iid', 'og_rating', 'svd_rating', 'knn_rating', 'svdpp_rating', 'slopeone_rating','baseline_rating'])\n",
    "  # print(df)\n",
    "  test_pred_df = pd.concat([df, test_pred_df], ignore_index=True)"
   ]
  },
  {
   "cell_type": "code",
   "execution_count": 18,
   "metadata": {
    "colab": {
     "base_uri": "https://localhost:8080/",
     "height": 402
    },
    "colab_type": "code",
    "id": "fJdb0S-A5PiX",
    "outputId": "7e1bbd47-57f4-464e-ea62-95cda20ad0b5"
   },
   "outputs": [
    {
     "data": {
      "text/html": [
       "<div>\n",
       "<style scoped>\n",
       "    .dataframe tbody tr th:only-of-type {\n",
       "        vertical-align: middle;\n",
       "    }\n",
       "\n",
       "    .dataframe tbody tr th {\n",
       "        vertical-align: top;\n",
       "    }\n",
       "\n",
       "    .dataframe thead th {\n",
       "        text-align: right;\n",
       "    }\n",
       "</style>\n",
       "<table border=\"1\" class=\"dataframe\">\n",
       "  <thead>\n",
       "    <tr style=\"text-align: right;\">\n",
       "      <th></th>\n",
       "      <th>uid</th>\n",
       "      <th>iid</th>\n",
       "      <th>og_rating</th>\n",
       "      <th>svd_rating</th>\n",
       "      <th>knn_rating</th>\n",
       "      <th>svdpp_rating</th>\n",
       "      <th>slopeone_rating</th>\n",
       "      <th>baseline_rating</th>\n",
       "    </tr>\n",
       "  </thead>\n",
       "  <tbody>\n",
       "    <tr>\n",
       "      <th>0</th>\n",
       "      <td>527</td>\n",
       "      <td>1704</td>\n",
       "      <td>4.0</td>\n",
       "      <td>3.640624</td>\n",
       "      <td>3.416435</td>\n",
       "      <td>3.391777</td>\n",
       "      <td>3.574057</td>\n",
       "      <td>3.604491</td>\n",
       "    </tr>\n",
       "    <tr>\n",
       "      <th>1</th>\n",
       "      <td>452</td>\n",
       "      <td>2120</td>\n",
       "      <td>1.0</td>\n",
       "      <td>2.895874</td>\n",
       "      <td>3.122418</td>\n",
       "      <td>3.184163</td>\n",
       "      <td>2.911402</td>\n",
       "      <td>3.113861</td>\n",
       "    </tr>\n",
       "    <tr>\n",
       "      <th>2</th>\n",
       "      <td>282</td>\n",
       "      <td>5445</td>\n",
       "      <td>3.0</td>\n",
       "      <td>3.502742</td>\n",
       "      <td>3.510027</td>\n",
       "      <td>3.751624</td>\n",
       "      <td>3.610374</td>\n",
       "      <td>3.675542</td>\n",
       "    </tr>\n",
       "    <tr>\n",
       "      <th>3</th>\n",
       "      <td>187</td>\n",
       "      <td>7153</td>\n",
       "      <td>1.0</td>\n",
       "      <td>3.689533</td>\n",
       "      <td>3.913941</td>\n",
       "      <td>2.728789</td>\n",
       "      <td>4.323326</td>\n",
       "      <td>4.157547</td>\n",
       "    </tr>\n",
       "    <tr>\n",
       "      <th>4</th>\n",
       "      <td>547</td>\n",
       "      <td>26784</td>\n",
       "      <td>3.0</td>\n",
       "      <td>3.293416</td>\n",
       "      <td>3.288193</td>\n",
       "      <td>3.190122</td>\n",
       "      <td>3.544142</td>\n",
       "      <td>3.288193</td>\n",
       "    </tr>\n",
       "    <tr>\n",
       "      <th>...</th>\n",
       "      <td>...</td>\n",
       "      <td>...</td>\n",
       "      <td>...</td>\n",
       "      <td>...</td>\n",
       "      <td>...</td>\n",
       "      <td>...</td>\n",
       "      <td>...</td>\n",
       "      <td>...</td>\n",
       "    </tr>\n",
       "    <tr>\n",
       "      <th>19996</th>\n",
       "      <td>652</td>\n",
       "      <td>36527</td>\n",
       "      <td>4.0</td>\n",
       "      <td>4.202399</td>\n",
       "      <td>4.176398</td>\n",
       "      <td>4.450678</td>\n",
       "      <td>4.205742</td>\n",
       "      <td>4.268476</td>\n",
       "    </tr>\n",
       "    <tr>\n",
       "      <th>19997</th>\n",
       "      <td>78</td>\n",
       "      <td>2011</td>\n",
       "      <td>4.5</td>\n",
       "      <td>4.088458</td>\n",
       "      <td>4.291281</td>\n",
       "      <td>4.423929</td>\n",
       "      <td>4.033263</td>\n",
       "      <td>4.187499</td>\n",
       "    </tr>\n",
       "    <tr>\n",
       "      <th>19998</th>\n",
       "      <td>306</td>\n",
       "      <td>804</td>\n",
       "      <td>3.0</td>\n",
       "      <td>3.005642</td>\n",
       "      <td>2.758387</td>\n",
       "      <td>3.018154</td>\n",
       "      <td>3.075277</td>\n",
       "      <td>3.170685</td>\n",
       "    </tr>\n",
       "    <tr>\n",
       "      <th>19999</th>\n",
       "      <td>603</td>\n",
       "      <td>1073</td>\n",
       "      <td>3.0</td>\n",
       "      <td>4.010676</td>\n",
       "      <td>3.714640</td>\n",
       "      <td>4.034260</td>\n",
       "      <td>4.159339</td>\n",
       "      <td>3.994523</td>\n",
       "    </tr>\n",
       "    <tr>\n",
       "      <th>20000</th>\n",
       "      <td>7</td>\n",
       "      <td>40</td>\n",
       "      <td>4.0</td>\n",
       "      <td>3.049476</td>\n",
       "      <td>3.439451</td>\n",
       "      <td>3.111941</td>\n",
       "      <td>3.270981</td>\n",
       "      <td>3.330191</td>\n",
       "    </tr>\n",
       "  </tbody>\n",
       "</table>\n",
       "<p>20001 rows × 8 columns</p>\n",
       "</div>"
      ],
      "text/plain": [
       "       uid    iid  og_rating  svd_rating  knn_rating  svdpp_rating  \\\n",
       "0      527   1704        4.0    3.640624    3.416435      3.391777   \n",
       "1      452   2120        1.0    2.895874    3.122418      3.184163   \n",
       "2      282   5445        3.0    3.502742    3.510027      3.751624   \n",
       "3      187   7153        1.0    3.689533    3.913941      2.728789   \n",
       "4      547  26784        3.0    3.293416    3.288193      3.190122   \n",
       "...    ...    ...        ...         ...         ...           ...   \n",
       "19996  652  36527        4.0    4.202399    4.176398      4.450678   \n",
       "19997   78   2011        4.5    4.088458    4.291281      4.423929   \n",
       "19998  306    804        3.0    3.005642    2.758387      3.018154   \n",
       "19999  603   1073        3.0    4.010676    3.714640      4.034260   \n",
       "20000    7     40        4.0    3.049476    3.439451      3.111941   \n",
       "\n",
       "       slopeone_rating  baseline_rating  \n",
       "0             3.574057         3.604491  \n",
       "1             2.911402         3.113861  \n",
       "2             3.610374         3.675542  \n",
       "3             4.323326         4.157547  \n",
       "4             3.544142         3.288193  \n",
       "...                ...              ...  \n",
       "19996         4.205742         4.268476  \n",
       "19997         4.033263         4.187499  \n",
       "19998         3.075277         3.170685  \n",
       "19999         4.159339         3.994523  \n",
       "20000         3.270981         3.330191  \n",
       "\n",
       "[20001 rows x 8 columns]"
      ]
     },
     "execution_count": 18,
     "metadata": {},
     "output_type": "execute_result"
    }
   ],
   "source": [
    "test_pred_df"
   ]
  }
 ],
 "metadata": {
  "colab": {
   "collapsed_sections": [],
   "name": "surprise_model_predictions.ipynb",
   "provenance": []
  },
  "kernelspec": {
   "display_name": "Python 3",
   "language": "python",
   "name": "python3"
  },
  "language_info": {
   "codemirror_mode": {
    "name": "ipython",
    "version": 3
   },
   "file_extension": ".py",
   "mimetype": "text/x-python",
   "name": "python",
   "nbconvert_exporter": "python",
   "pygments_lexer": "ipython3",
   "version": "3.8.5"
  }
 },
 "nbformat": 4,
 "nbformat_minor": 1
}
