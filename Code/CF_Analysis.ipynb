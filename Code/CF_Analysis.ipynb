{
 "cells": [
  {
   "cell_type": "markdown",
   "metadata": {
    "colab_type": "text",
    "id": "DtdIsjLyH_4D"
   },
   "source": [
    "This notebook compares the different collaborative filtering approaches - item-item based vs user-user based. It also compares the different similarity methods such as Baseline, Mean score, Z-score using surprise library. "
   ]
  },
  {
   "cell_type": "code",
   "execution_count": 1,
   "metadata": {
    "colab": {},
    "colab_type": "code",
    "id": "1tc-yGKDNR4L"
   },
   "outputs": [],
   "source": [
    "from surprise import SVD, BaselineOnly, SVDpp, NMF, SlopeOne, CoClustering\n",
    "from surprise import Dataset\n",
    "from surprise.model_selection import cross_validate\n",
    "from surprise.prediction_algorithms import KNNBaseline, KNNBasic, KNNWithMeans, KNNWithZScore\n",
    "from surprise import accuracy\n",
    "from surprise.model_selection import train_test_split"
   ]
  },
  {
   "cell_type": "code",
   "execution_count": 2,
   "metadata": {
    "colab": {},
    "colab_type": "code",
    "id": "Kvq85UBVNU_v"
   },
   "outputs": [],
   "source": [
    "# Load the movielens-1M dataset\n",
    "data = Dataset.load_builtin('ml-1m')"
   ]
  },
  {
   "cell_type": "code",
   "execution_count": 3,
   "metadata": {
    "colab": {},
    "colab_type": "code",
    "id": "I1PsMx8jPL19"
   },
   "outputs": [],
   "source": [
    "# sample random trainset and testset\n",
    "# test set is made of 25% of the ratings.\n",
    "trainset, testset = train_test_split(data, test_size=.20)"
   ]
  },
  {
   "cell_type": "code",
   "execution_count": 4,
   "metadata": {
    "colab": {},
    "colab_type": "code",
    "id": "7w0KWjbqTTIQ"
   },
   "outputs": [],
   "source": [
    "def recommendation(algo, trainset, testset):\n",
    "  # Train the algorithm on the trainset, and predict ratings for the testset\n",
    "  algo.fit(trainset)\n",
    "  predictions = algo.test(testset)\n",
    "\n",
    "  # Then compute RMSE\n",
    "  accuracy.rmse(predictions)\n",
    "  # Then compute MAE\n",
    "  accuracy.mae(predictions)\n",
    "  return"
   ]
  },
  {
   "cell_type": "code",
   "execution_count": 5,
   "metadata": {
    "colab": {
     "base_uri": "https://localhost:8080/",
     "height": 118
    },
    "colab_type": "code",
    "id": "XvUB_8TvPQjt",
    "outputId": "bf6c3d43-5cc4-4717-a9bd-cc64a16e4c5f"
   },
   "outputs": [
    {
     "name": "stdout",
     "output_type": "stream",
     "text": [
      "Estimating biases using als...\n",
      "Computing the cosine similarity matrix...\n",
      "Done computing similarity matrix.\n",
      "RMSE: 0.8963\n",
      "MAE:  0.7043\n",
      "Done!\n"
     ]
    }
   ],
   "source": [
    "# basic collaborative filtering algorithm taking into account a baseline rating.\n",
    "sim_options = {'name': 'cosine',\n",
    "               'user_based': False  # compute  similarities between items\n",
    "               }\n",
    "algo = KNNBaseline(sim_options=sim_options)\n",
    "\n",
    "algo.fit(trainset)\n",
    "predictions = algo.test(testset)\n",
    "\n",
    "accuracy.rmse(predictions)\n",
    "accuracy.mae(predictions)\n",
    "print(\"Done!\")"
   ]
  },
  {
   "cell_type": "code",
   "execution_count": 6,
   "metadata": {
    "colab": {
     "base_uri": "https://localhost:8080/",
     "height": 101
    },
    "colab_type": "code",
    "id": "BHzbICP5d3Mp",
    "outputId": "dadf0b00-8c2f-41a6-f381-dc0fb347ccff"
   },
   "outputs": [
    {
     "name": "stdout",
     "output_type": "stream",
     "text": [
      "Estimating biases using als...\n",
      "Computing the cosine similarity matrix...\n",
      "Done computing similarity matrix.\n",
      "RMSE: 0.9021\n",
      "MAE:  0.7124\n"
     ]
    }
   ],
   "source": [
    "# basic collaborative filtering algorithm taking into account a baseline rating.\n",
    "sim_options = {'name': 'cosine'}\n",
    "algo = KNNBaseline(sim_options=sim_options)\n",
    "recommendation(algo, trainset, testset)"
   ]
  },
  {
   "cell_type": "code",
   "execution_count": 7,
   "metadata": {
    "colab": {
     "base_uri": "https://localhost:8080/",
     "height": 101
    },
    "colab_type": "code",
    "id": "-DzaIam7SMiQ",
    "outputId": "161cf731-58fd-4b58-b1cc-c41117618b6b"
   },
   "outputs": [
    {
     "name": "stdout",
     "output_type": "stream",
     "text": [
      "Estimating biases using als...\n",
      "Computing the msd similarity matrix...\n",
      "Done computing similarity matrix.\n",
      "RMSE: 0.8876\n",
      "MAE:  0.6962\n"
     ]
    }
   ],
   "source": [
    "# basic collaborative filtering algorithm taking into account a baseline rating.\n",
    "sim_options = {'name': 'msd',\n",
    "               'user_based': False  # compute  similarities between items\n",
    "               }\n",
    "algo = KNNBaseline(sim_options=sim_options)\n",
    "recommendation(algo, trainset, testset)"
   ]
  },
  {
   "cell_type": "code",
   "execution_count": 8,
   "metadata": {
    "colab": {
     "base_uri": "https://localhost:8080/",
     "height": 101
    },
    "colab_type": "code",
    "id": "Of7_oYJgdvAj",
    "outputId": "f92d2dd7-04d9-427c-c173-a5547196a089"
   },
   "outputs": [
    {
     "name": "stdout",
     "output_type": "stream",
     "text": [
      "Estimating biases using als...\n",
      "Computing the msd similarity matrix...\n",
      "Done computing similarity matrix.\n",
      "RMSE: 0.8966\n",
      "MAE:  0.7071\n"
     ]
    }
   ],
   "source": [
    "# basic collaborative filtering algorithm taking into account a baseline rating.\n",
    "sim_options = {'name': 'msd'}\n",
    "algo = KNNBaseline(sim_options=sim_options)\n",
    "recommendation(algo, trainset, testset)"
   ]
  },
  {
   "cell_type": "code",
   "execution_count": 9,
   "metadata": {
    "colab": {
     "base_uri": "https://localhost:8080/",
     "height": 101
    },
    "colab_type": "code",
    "id": "ac0-btwITw2w",
    "outputId": "95f71336-0dc6-43b5-8d13-d3b28655d7d4"
   },
   "outputs": [
    {
     "name": "stdout",
     "output_type": "stream",
     "text": [
      "Estimating biases using als...\n",
      "Computing the pearson similarity matrix...\n",
      "Done computing similarity matrix.\n",
      "RMSE: 0.8916\n",
      "MAE:  0.7006\n"
     ]
    }
   ],
   "source": [
    "# basic collaborative filtering algorithm taking into account a baseline rating.\n",
    "sim_options = {'name': 'pearson',\n",
    "               'user_based': False  # compute  similarities between items\n",
    "               }\n",
    "algo = KNNBaseline(sim_options=sim_options)\n",
    "recommendation(algo, trainset, testset)"
   ]
  },
  {
   "cell_type": "code",
   "execution_count": 10,
   "metadata": {
    "colab": {
     "base_uri": "https://localhost:8080/",
     "height": 101
    },
    "colab_type": "code",
    "id": "EpigtPLWdwvp",
    "outputId": "b7318c61-6210-45f1-fd53-e1df7b58d265"
   },
   "outputs": [
    {
     "name": "stdout",
     "output_type": "stream",
     "text": [
      "Estimating biases using als...\n",
      "Computing the pearson similarity matrix...\n",
      "Done computing similarity matrix.\n",
      "RMSE: 0.8975\n",
      "MAE:  0.7073\n"
     ]
    }
   ],
   "source": [
    "# basic collaborative filtering algorithm taking into account a baseline rating.\n",
    "sim_options = {'name': 'pearson'}\n",
    "algo = KNNBaseline(sim_options=sim_options)\n",
    "recommendation(algo, trainset, testset)"
   ]
  },
  {
   "cell_type": "code",
   "execution_count": 11,
   "metadata": {
    "colab": {
     "base_uri": "https://localhost:8080/",
     "height": 101
    },
    "colab_type": "code",
    "id": "f1rdS28rZh1O",
    "outputId": "40fa52e2-89d5-437d-b65a-4a4dd03c370b"
   },
   "outputs": [
    {
     "name": "stdout",
     "output_type": "stream",
     "text": [
      "Estimating biases using als...\n",
      "Computing the pearson_baseline similarity matrix...\n",
      "Done computing similarity matrix.\n",
      "RMSE: 0.8602\n",
      "MAE:  0.6733\n"
     ]
    }
   ],
   "source": [
    "# basic collaborative filtering algorithm taking into account a baseline rating.\n",
    "sim_options = {'name': 'pearson_baseline',\n",
    "               'user_based': False  # compute  similarities between items\n",
    "               }\n",
    "algo = KNNBaseline(sim_options=sim_options)\n",
    "recommendation(algo, trainset, testset)"
   ]
  },
  {
   "cell_type": "code",
   "execution_count": 12,
   "metadata": {
    "colab": {
     "base_uri": "https://localhost:8080/",
     "height": 101
    },
    "colab_type": "code",
    "id": "UIjn0H3jWMEm",
    "outputId": "464ff50f-5ed3-44b3-c5fd-65f2856cd8d7"
   },
   "outputs": [
    {
     "name": "stdout",
     "output_type": "stream",
     "text": [
      "Estimating biases using als...\n",
      "Computing the pearson_baseline similarity matrix...\n",
      "Done computing similarity matrix.\n",
      "RMSE: 0.8621\n",
      "MAE:  0.6755\n"
     ]
    }
   ],
   "source": [
    "# basic collaborative filtering algorithm taking into account a baseline rating.\n",
    "sim_options = {'name': 'pearson_baseline',\n",
    "               'user_based': False  # compute  similarities between items\n",
    "               }\n",
    "algo = KNNBaseline(k=60,sim_options=sim_options)\n",
    "recommendation(algo, trainset, testset)"
   ]
  },
  {
   "cell_type": "code",
   "execution_count": 13,
   "metadata": {
    "colab": {
     "base_uri": "https://localhost:8080/",
     "height": 101
    },
    "colab_type": "code",
    "id": "3G4gNKjJdZBP",
    "outputId": "5903df08-0229-4680-d5d5-4635e4144294"
   },
   "outputs": [
    {
     "name": "stdout",
     "output_type": "stream",
     "text": [
      "Estimating biases using als...\n",
      "Computing the pearson_baseline similarity matrix...\n",
      "Done computing similarity matrix.\n",
      "RMSE: 0.8709\n",
      "MAE:  0.6814\n"
     ]
    }
   ],
   "source": [
    "# basic collaborative filtering algorithm taking into account a baseline rating.\n",
    "sim_options = {'name': 'pearson_baseline'}\n",
    "algo = KNNBaseline(sim_options=sim_options)\n",
    "recommendation(algo, trainset, testset)"
   ]
  },
  {
   "cell_type": "code",
   "execution_count": 14,
   "metadata": {
    "colab": {
     "base_uri": "https://localhost:8080/",
     "height": 101
    },
    "colab_type": "code",
    "id": "rSnppFp9U25M",
    "outputId": "026dd6d3-663d-492f-f098-3e3f82a95125"
   },
   "outputs": [
    {
     "name": "stdout",
     "output_type": "stream",
     "text": [
      "Estimating biases using als...\n",
      "Computing the pearson_baseline similarity matrix...\n",
      "Done computing similarity matrix.\n",
      "RMSE: 0.8707\n",
      "MAE:  0.6817\n"
     ]
    }
   ],
   "source": [
    "# basic collaborative filtering algorithm taking into account a baseline rating.\n",
    "sim_options = {'name': 'pearson_baseline'}\n",
    "algo = KNNBaseline(k=60,sim_options=sim_options)\n",
    "recommendation(algo, trainset, testset)"
   ]
  },
  {
   "cell_type": "code",
   "execution_count": 15,
   "metadata": {
    "colab": {},
    "colab_type": "code",
    "id": "XFpEsH4DvOKm"
   },
   "outputs": [],
   "source": [
    "import matplotlib.pyplot as plt\n"
   ]
  },
  {
   "cell_type": "code",
   "execution_count": 16,
   "metadata": {
    "colab": {
     "base_uri": "https://localhost:8080/",
     "height": 358
    },
    "colab_type": "code",
    "id": "6u3XUtVHqjq1",
    "outputId": "25cc0cca-60a5-4edb-dedd-08891ca3be24"
   },
   "outputs": [
    {
     "data": {
      "image/png": "[encoded data removed]",
      "text/plain": [
       "<Figure size 1080x360 with 1 Axes>"
      ]
     },
     "metadata": {
      "needs_background": "light"
     },
     "output_type": "display_data"
    }
   ],
   "source": [
    "x_algo = ['cosine', 'msd', 'pearson_baseline', 'pearson']\n",
    "\n",
    "user_rmse = [0.9024, 0.8967, 0.8697, 0.8968]\n",
    "item_rmse = [0.8953,  0.8871,0.8596, 0.8901 ]\n",
    "\n",
    "user_mae = [0.7134, 0.7080, 0.6811, 0.7072]\n",
    "item_mae = [0.7044,  0.6964,0.6737, 0.7002 ]\n",
    "\n",
    "plt.figure(figsize=(15,5))\n",
    "\n",
    "# plt.subplot(1, 2, 1)\n",
    "plt.title('Comparison of similarity metric on RMSE and MAE', loc='center', fontsize=15)\n",
    "plt.plot(x_algo, user_rmse, label='User-user RMSE', color='darkgreen', marker='o')\n",
    "plt.plot(x_algo, item_rmse, label='Item-item RMSE', color='navy', marker='o')\n",
    "plt.xlabel('Similarity metric', fontsize=15)\n",
    "plt.ylabel('Error Value', fontsize=15)\n",
    "# plt.legend()\n",
    "# plt.grid(ls='dashed')\n",
    "# plt.show()\n",
    "\n",
    "# plt.subplot(1, 2, 1)\n",
    "# plt.figure(figsize=(15,5))\n",
    "# plt.title('Comparison of similarity metric on MAE', loc='center', fontsize=15)\n",
    "plt.plot(x_algo, user_mae, label='User-user MAE', color='darkgreen', marker='o')\n",
    "plt.plot(x_algo, item_mae, label='Item-item MAE', color='navy', marker='o')\n",
    "# plt.xlabel('Similarity metric', fontsize=15)\n",
    "# plt.ylabel('MAE Value', fontsize=15)\n",
    "plt.legend()\n",
    "plt.grid(ls='dashed')\n",
    "\n",
    "plt.show()"
   ]
  }
 ],
 "metadata": {
  "colab": {
   "collapsed_sections": [],
   "name": "knn_analysis.ipynb",
   "provenance": []
  },
  "kernelspec": {
   "display_name": "Python 3",
   "language": "python",
   "name": "python3"
  },
  "language_info": {
   "codemirror_mode": {
    "name": "ipython",
    "version": 3
   },
   "file_extension": ".py",
   "mimetype": "text/x-python",
   "name": "python",
   "nbconvert_exporter": "python",
   "pygments_lexer": "ipython3",
   "version": "3.8.5"
  }
 },
 "nbformat": 4,
 "nbformat_minor": 1
}
