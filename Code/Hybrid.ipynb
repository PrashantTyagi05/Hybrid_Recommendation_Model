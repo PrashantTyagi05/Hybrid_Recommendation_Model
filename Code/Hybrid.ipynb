{
 "cells": [
  {
   "cell_type": "code",
   "execution_count": 1,
   "metadata": {},
   "outputs": [],
   "source": [
    "import numpy as np\n",
    "import pandas as pd\n",
    "import pickle"
   ]
  },
  {
   "cell_type": "code",
   "execution_count": 2,
   "metadata": {},
   "outputs": [],
   "source": [
    "with open('cosine_similarity.pickle', 'rb') as handle:\n",
    "    cosine_similarity = pickle.load(handle)\n",
    "    \n",
    "with open('metdata.pickle', 'rb') as handle:\n",
    "    required_metadata = pickle.load(handle)\n",
    "    \n",
    "with open('popularity_data.pickle', 'rb') as handle:\n",
    "    popularity_data = pickle.load(handle)\n",
    "    \n",
    "with open('dataset.pickle', 'rb') as handle:\n",
    "    dataset = pickle.load(handle)\n",
    "    \n",
    "with open('svdpp.pickle', 'rb') as handle:\n",
    "    svdpp_data = pickle.load(handle)"
   ]
  },
  {
   "cell_type": "code",
   "execution_count": 3,
   "metadata": {},
   "outputs": [],
   "source": [
    "with open('indices.pickle', 'rb') as handle:\n",
    "    indices = pickle.load(handle)"
   ]
  },
  {
   "cell_type": "code",
   "execution_count": 4,
   "metadata": {},
   "outputs": [],
   "source": [
    "def get_recommendations_for_content_based(title, cosine_sim, indices, metadata, num_of_reco):\n",
    "    # Get the index of the movie that matches the title\n",
    "    idx = indices[title]\n",
    "\n",
    "    # Get the pairwsie similarity scores of all movies with that movie\n",
    "    sim_scores = list(enumerate(cosine_sim[idx]))\n",
    "\n",
    "    # Sort the movies based on the similarity scores\n",
    "    sim_scores = sorted(sim_scores, key=lambda x: x[1], reverse=True)\n",
    "\n",
    "    # Get the scores of the 10 most similar movies\n",
    "    sim_scores = sim_scores[1:num_of_reco+1]\n",
    "\n",
    "    # Get the movie indices\n",
    "    movie_indices = [i[0] for i in sim_scores]\n",
    "\n",
    "    # Return the top 10 most similar movies\n",
    "    return list(metadata['title'].iloc[movie_indices])\n"
   ]
  },
  {
   "cell_type": "code",
   "execution_count": 5,
   "metadata": {},
   "outputs": [],
   "source": [
    "def get_recommendations_from_popularity(title, popularity_data, num_of_reco):\n",
    "    director  = popularity_data[popularity_data['title']==title][['director']].iat[0,0]\n",
    "    df = popularity_data[popularity_data['director']==director]\n",
    "    df=df.sort_values(by='score', ascending=False)\n",
    "    titles = df['title'].tolist()\n",
    "    return titles[:5]"
   ]
  },
  {
   "cell_type": "code",
   "execution_count": 6,
   "metadata": {},
   "outputs": [],
   "source": [
    "def get_recommendations_from_svdpp(uID, dataset, svdpp_data, num_of_reco):\n",
    "    unique_ids = dataset['itemID'].unique()\n",
    "    iids = dataset.loc[dataset['userID']==uID, 'itemID']\n",
    "    movies_to_predict = np.setdiff1d(unique_ids,iids)\n",
    "    my_recs = []\n",
    "    for iid in movies_to_predict:\n",
    "        my_recs.append((iid, svdpp_data.predict(uid=uID,iid=iid).est))    \n",
    "    df1=pd.DataFrame(my_recs, columns=['iid', 'predictions']).sort_values('predictions', ascending=False).head(num_of_reco)\n",
    "    titles = df1['iid'].tolist()\n",
    "    return titles"
   ]
  },
  {
   "cell_type": "code",
   "execution_count": 7,
   "metadata": {},
   "outputs": [],
   "source": [
    "result1 = get_recommendations_for_content_based('The Dark Knight Rises', cosine_similarity, indices, required_metadata, 5)\n",
    "result2 = get_recommendations_from_popularity('The Dark Knight Rises', popularity_data, 5)\n",
    "result3 = get_recommendations_from_svdpp(652, dataset, svdpp_data, 10)"
   ]
  },
  {
   "cell_type": "code",
   "execution_count": 8,
   "metadata": {},
   "outputs": [
    {
     "data": {
      "text/plain": [
       "['The Dark Knight', 'Batman Begins', 'Shiner', 'Amongst Friends', 'Mitchell']"
      ]
     },
     "execution_count": 8,
     "metadata": {},
     "output_type": "execute_result"
    }
   ],
   "source": [
    "result1"
   ]
  },
  {
   "cell_type": "code",
   "execution_count": 9,
   "metadata": {},
   "outputs": [
    {
     "data": {
      "text/plain": [
       "['The Dark Knight', 'Inception', 'Interstellar', 'Memento', 'The Prestige']"
      ]
     },
     "execution_count": 9,
     "metadata": {},
     "output_type": "execute_result"
    }
   ],
   "source": [
    "result2"
   ]
  },
  {
   "cell_type": "code",
   "execution_count": 10,
   "metadata": {},
   "outputs": [
    {
     "data": {
      "text/plain": [
       "['The Sixth Sense',\n",
       " 'Beetlejuice',\n",
       " 'While You Were Sleeping',\n",
       " 'The Green Mile',\n",
       " 'Galaxy Quest',\n",
       " \"Don't Worry, I'm Fine\",\n",
       " 'Dead Man',\n",
       " 'Bonnie and Clyde',\n",
       " 'Madagascar',\n",
       " 'Frankenstein']"
      ]
     },
     "execution_count": 10,
     "metadata": {},
     "output_type": "execute_result"
    }
   ],
   "source": [
    "result3"
   ]
  },
  {
   "cell_type": "code",
   "execution_count": 11,
   "metadata": {},
   "outputs": [],
   "source": [
    "def hybrid_model(uID, dataset, svdpp_data, cosine_sim, indices, metadata, num_of_reco2, popularity_data):\n",
    "    movies = get_recommendations_from_svdpp(uID, dataset, svdpp_data, 5)\n",
    "    print(movies)\n",
    "    related_movies=[]\n",
    "    for i in movies:\n",
    "        result = get_recommendations_for_content_based(i, cosine_sim, indices, metadata, num_of_reco2)\n",
    "        for j in result:\n",
    "            related_movies.append(j)\n",
    "    df = pd.DataFrame(data=None, columns=popularity_data.columns)\n",
    "    for j in related_movies:\n",
    "        df1 = popularity_data[popularity_data[\"title\"] == j]\n",
    "        df = df.append(df1)\n",
    "    df = df[['title' , 'score']].drop_duplicates()\n",
    "    df = df.sort_values(by='score', ascending=False)\n",
    "    titles = df['title'].tolist()\n",
    "    top_10 = titles[:10]\n",
    "    print(top_10)\n",
    "    result = movies+titles[:10]\n",
    "    return result"
   ]
  },
  {
   "cell_type": "code",
   "execution_count": 13,
   "metadata": {
    "scrolled": true
   },
   "outputs": [
    {
     "name": "stdout",
     "output_type": "stream",
     "text": [
      "['The Sixth Sense', 'Beetlejuice', 'While You Were Sleeping', 'The Green Mile', 'Galaxy Quest']\n",
      "['The Shawshank Redemption', 'Forrest Gump', 'Toy Story', 'Catch Me If You Can', 'To Kill a Mockingbird', 'Edward Scissorhands', 'Mystic River', 'Toy Story 2', 'American Gangster', 'Dancer in the Dark']\n"
     ]
    },
    {
     "data": {
      "text/plain": [
       "['The Sixth Sense',\n",
       " 'Beetlejuice',\n",
       " 'While You Were Sleeping',\n",
       " 'The Green Mile',\n",
       " 'Galaxy Quest',\n",
       " 'The Shawshank Redemption',\n",
       " 'Forrest Gump',\n",
       " 'Toy Story',\n",
       " 'Catch Me If You Can',\n",
       " 'To Kill a Mockingbird',\n",
       " 'Edward Scissorhands',\n",
       " 'Mystic River',\n",
       " 'Toy Story 2',\n",
       " 'American Gangster',\n",
       " 'Dancer in the Dark']"
      ]
     },
     "execution_count": 13,
     "metadata": {},
     "output_type": "execute_result"
    }
   ],
   "source": [
    "results = hybrid_model(652, dataset, svdpp_data, cosine_similarity, indices, required_metadata, 50, popularity_data)\n",
    "results"
   ]
  }
 ],
 "metadata": {
  "kernelspec": {
   "display_name": "Python 3",
   "language": "python",
   "name": "python3"
  },
  "language_info": {
   "codemirror_mode": {
    "name": "ipython",
    "version": 3
   },
   "file_extension": ".py",
   "mimetype": "text/x-python",
   "name": "python",
   "nbconvert_exporter": "python",
   "pygments_lexer": "ipython3",
   "version": "3.8.5"
  }
 },
 "nbformat": 4,
 "nbformat_minor": 4
}
